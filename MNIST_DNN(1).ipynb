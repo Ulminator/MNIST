{
 "cells": [
  {
   "cell_type": "code",
   "execution_count": 1,
   "metadata": {},
   "outputs": [
    {
     "name": "stdout",
     "output_type": "stream",
     "text": [
      "Extracting MNIST_data/train-images-idx3-ubyte.gz\n",
      "Extracting MNIST_data/train-labels-idx1-ubyte.gz\n",
      "Extracting MNIST_data/t10k-images-idx3-ubyte.gz\n",
      "Extracting MNIST_data/t10k-labels-idx1-ubyte.gz\n",
      "Train Size: 55000\n",
      "Validation Size: 5000\n",
      "Test Size: 10000\n"
     ]
    }
   ],
   "source": [
    "%matplotlib inline\n",
    "import tensorflow as tf\n",
    "import numpy as np\n",
    "from tensorflow.examples.tutorials.mnist import input_data\n",
    "import time\n",
    "import matplotlib.pyplot as plt\n",
    "\n",
    "mnist = input_data.read_data_sets('MNIST_data/', one_hot=False)\n",
    "print('Train Size: {0}'.format(mnist.train.num_examples))\n",
    "print('Validation Size: {0}'.format(mnist.validation.num_examples))\n",
    "print('Test Size: {0}'.format(mnist.test.num_examples))"
   ]
  },
  {
   "cell_type": "code",
   "execution_count": 2,
   "metadata": {
    "collapsed": true
   },
   "outputs": [],
   "source": [
    "# Specify that all features have real-value data\n",
    "feature_columns = [tf.contrib.layers.real_valued_column(\"\", dimension=784)]\n",
    "\n",
    "def DNN(hidden_units, optimizer, activation_fn, dropout=0.0, model_dir=None):\n",
    "# Build len(hidden_units) layer DNN\n",
    "    classifier = tf.contrib.learn.DNNClassifier(feature_columns=feature_columns,\n",
    "                                                hidden_units=hidden_units,\n",
    "                                                n_classes=10,\n",
    "                                                optimizer=optimizer,\n",
    "                                                activation_fn=activation_fn,\n",
    "                                                dropout=dropout,\n",
    "                                                model_dir=model_dir)\n",
    "    \n",
    "    return classifier\n",
    "# Define test inputs\n",
    "def get_train_inputs():\n",
    "    #train_subset = 10000\n",
    "    x = tf.constant(mnist.train.images)\n",
    "    y = tf.constant(mnist.train.labels.astype(np.int64))\n",
    "\n",
    "    return x, y\n",
    "\n",
    "# Define the test inputs\n",
    "def get_validation_inputs():\n",
    "    x = tf.constant(mnist.validation.images)\n",
    "    y = tf.constant(mnist.validation.labels.astype(np.int64))\n",
    "\n",
    "    return x, y\n",
    "\n",
    "# Define the test inputs\n",
    "def get_test_inputs():\n",
    "    x = tf.constant(mnist.test.images)\n",
    "    y = tf.constant(mnist.test.labels.astype(np.int64))\n",
    "\n",
    "    return x, y"
   ]
  },
  {
   "cell_type": "code",
   "execution_count": 3,
   "metadata": {},
   "outputs": [
    {
     "name": "stdout",
     "output_type": "stream",
     "text": [
      "[7 3 4 ..., 5 6 8]\n"
     ]
    }
   ],
   "source": [
    "print(mnist.train.labels)"
   ]
  },
  {
   "cell_type": "code",
   "execution_count": 4,
   "metadata": {
    "collapsed": true
   },
   "outputs": [],
   "source": [
    "classifiers = []\n",
    "train_scores = []\n",
    "validation_scores = []\n",
    "test_scores = []"
   ]
  },
  {
   "cell_type": "code",
   "execution_count": 5,
   "metadata": {},
   "outputs": [
    {
     "name": "stdout",
     "output_type": "stream",
     "text": [
      "INFO:tensorflow:Using default config.\n",
      "INFO:tensorflow:Using config: {'_task_type': None, '_cluster_spec': <tensorflow.python.training.server_lib.ClusterSpec object at 0x7fcdb52c6ac8>, '_tf_random_seed': None, '_master': '', '_environment': 'local', '_save_summary_steps': 100, '_keep_checkpoint_max': 5, '_num_ps_replicas': 0, '_num_worker_replicas': 0, '_tf_config': gpu_options {\n",
      "  per_process_gpu_memory_fraction: 1.0\n",
      "}\n",
      ", '_task_id': 0, '_is_chief': True, '_save_checkpoints_steps': None, '_evaluation_master': '', '_model_dir': None, '_save_checkpoints_secs': 600, '_keep_checkpoint_every_n_hours': 10000}\n",
      "WARNING:tensorflow:Using temporary folder as model directory: /tmp/tmpweg9wjmn\n"
     ]
    }
   ],
   "source": [
    "classifier = DNN(hidden_units=[100, 30], optimizer=None, activation_fn=tf.nn.crelu)\n",
    "classifiers.append(classifier)"
   ]
  },
  {
   "cell_type": "code",
   "execution_count": 6,
   "metadata": {},
   "outputs": [
    {
     "name": "stdout",
     "output_type": "stream",
     "text": [
      "WARNING:tensorflow:From /home/mulmer/envs/tensorflow/lib/python3.5/site-packages/tensorflow/contrib/learn/python/learn/estimators/head.py:615: scalar_summary (from tensorflow.python.ops.logging_ops) is deprecated and will be removed after 2016-11-30.\n",
      "Instructions for updating:\n",
      "Please switch to tf.summary.scalar. Note that tf.summary.scalar uses the node name instead of the tag. This means that TensorFlow will automatically de-duplicate summary names based on the scope they are created in. Also, passing a tensor or list of tags to a scalar summary op is no longer supported.\n",
      "INFO:tensorflow:Create CheckpointSaverHook.\n",
      "INFO:tensorflow:Saving checkpoints for 1 into /tmp/tmpweg9wjmn/model.ckpt.\n",
      "INFO:tensorflow:loss = 2.37072, step = 1\n",
      "INFO:tensorflow:global_step/sec: 2.16105\n",
      "INFO:tensorflow:loss = 0.356983, step = 101 (46.276 sec)\n",
      "INFO:tensorflow:global_step/sec: 2.71384\n",
      "INFO:tensorflow:loss = 0.267719, step = 201 (36.848 sec)\n",
      "INFO:tensorflow:global_step/sec: 2.08149\n",
      "INFO:tensorflow:loss = 0.222702, step = 301 (48.043 sec)\n",
      "INFO:tensorflow:global_step/sec: 3.15081\n",
      "INFO:tensorflow:loss = 0.192897, step = 401 (31.737 sec)\n",
      "INFO:tensorflow:global_step/sec: 3.71804\n",
      "INFO:tensorflow:loss = 0.171341, step = 501 (26.896 sec)\n",
      "INFO:tensorflow:global_step/sec: 3.84315\n",
      "INFO:tensorflow:loss = 0.154538, step = 601 (26.020 sec)\n",
      "INFO:tensorflow:global_step/sec: 3.89974\n",
      "INFO:tensorflow:loss = 0.140839, step = 701 (25.643 sec)\n",
      "INFO:tensorflow:global_step/sec: 3.74746\n",
      "INFO:tensorflow:loss = 0.129376, step = 801 (26.690 sec)\n",
      "INFO:tensorflow:global_step/sec: 3.80565\n",
      "INFO:tensorflow:loss = 0.119476, step = 901 (26.271 sec)\n",
      "INFO:tensorflow:global_step/sec: 3.85231\n",
      "INFO:tensorflow:loss = 0.110818, step = 1001 (25.959 sec)\n",
      "INFO:tensorflow:global_step/sec: 4.31751\n",
      "INFO:tensorflow:loss = 0.103162, step = 1101 (23.161 sec)\n",
      "INFO:tensorflow:global_step/sec: 3.7942\n",
      "INFO:tensorflow:loss = 0.0963136, step = 1201 (26.357 sec)\n",
      "INFO:tensorflow:global_step/sec: 3.27649\n",
      "INFO:tensorflow:loss = 0.0901252, step = 1301 (30.520 sec)\n",
      "INFO:tensorflow:global_step/sec: 4.09062\n",
      "INFO:tensorflow:loss = 0.0845058, step = 1401 (24.449 sec)\n",
      "INFO:tensorflow:global_step/sec: 3.93443\n",
      "INFO:tensorflow:loss = 0.0794054, step = 1501 (25.413 sec)\n",
      "INFO:tensorflow:global_step/sec: 3.62919\n",
      "INFO:tensorflow:loss = 0.0747609, step = 1601 (27.555 sec)\n",
      "INFO:tensorflow:global_step/sec: 4.19852\n",
      "INFO:tensorflow:loss = 0.0705114, step = 1701 (23.819 sec)\n",
      "INFO:tensorflow:global_step/sec: 3.87128\n",
      "INFO:tensorflow:loss = 0.0665933, step = 1801 (25.830 sec)\n",
      "INFO:tensorflow:global_step/sec: 2.8798\n",
      "INFO:tensorflow:loss = 0.0629694, step = 1901 (34.724 sec)\n",
      "INFO:tensorflow:Saving checkpoints for 2000 into /tmp/tmpweg9wjmn/model.ckpt.\n",
      "INFO:tensorflow:Loss for final step: 0.059662.\n"
     ]
    },
    {
     "data": {
      "text/plain": [
       "DNNClassifier(params={'gradient_clip_norm': None, 'hidden_units': [100, 30], 'embedding_lr_multipliers': None, 'input_layer_min_slice_size': None, 'feature_columns': (_RealValuedColumn(column_name='', dimension=784, default_value=None, dtype=tf.float32, normalizer=None),), 'head': <tensorflow.contrib.learn.python.learn.estimators.head._MultiClassHead object at 0x7fcdb52c6a58>, 'activation_fn': <function crelu at 0x7fcdc2f47f28>, 'dropout': 0.0, 'optimizer': None})"
      ]
     },
     "execution_count": 6,
     "metadata": {},
     "output_type": "execute_result"
    }
   ],
   "source": [
    "classifier.fit(input_fn=get_train_inputs, steps=2000)"
   ]
  },
  {
   "cell_type": "code",
   "execution_count": 7,
   "metadata": {},
   "outputs": [
    {
     "name": "stdout",
     "output_type": "stream",
     "text": [
      "WARNING:tensorflow:From /home/mulmer/envs/tensorflow/lib/python3.5/site-packages/tensorflow/contrib/learn/python/learn/estimators/head.py:615: scalar_summary (from tensorflow.python.ops.logging_ops) is deprecated and will be removed after 2016-11-30.\n",
      "Instructions for updating:\n",
      "Please switch to tf.summary.scalar. Note that tf.summary.scalar uses the node name instead of the tag. This means that TensorFlow will automatically de-duplicate summary names based on the scope they are created in. Also, passing a tensor or list of tags to a scalar summary op is no longer supported.\n",
      "INFO:tensorflow:Starting evaluation at 2017-07-28-18:42:06\n",
      "INFO:tensorflow:Restoring parameters from /tmp/tmpweg9wjmn/model.ckpt-2000\n",
      "INFO:tensorflow:Evaluation [1/1]\n",
      "INFO:tensorflow:Finished evaluation at 2017-07-28-18:42:07\n",
      "INFO:tensorflow:Saving dict for global step 2000: accuracy = 0.984218, global_step = 2000, loss = 0.0596298\n",
      "WARNING:tensorflow:Skipping summary for global_step, must be a float or np.float32.\n",
      "\n",
      "Train Accuracy: 0.984218\n",
      "\n"
     ]
    }
   ],
   "source": [
    "# Evaluate accuracy on train set\n",
    "accuracy_score = classifier.evaluate(input_fn=get_train_inputs, steps=1)[\"accuracy\"]\n",
    "train_scores.append(accuracy_score)\n",
    "print(\"\\nTrain Accuracy: {0:f}\\n\".format(accuracy_score))"
   ]
  },
  {
   "cell_type": "code",
   "execution_count": 8,
   "metadata": {},
   "outputs": [
    {
     "name": "stdout",
     "output_type": "stream",
     "text": [
      "WARNING:tensorflow:From /home/mulmer/envs/tensorflow/lib/python3.5/site-packages/tensorflow/contrib/learn/python/learn/estimators/head.py:615: scalar_summary (from tensorflow.python.ops.logging_ops) is deprecated and will be removed after 2016-11-30.\n",
      "Instructions for updating:\n",
      "Please switch to tf.summary.scalar. Note that tf.summary.scalar uses the node name instead of the tag. This means that TensorFlow will automatically de-duplicate summary names based on the scope they are created in. Also, passing a tensor or list of tags to a scalar summary op is no longer supported.\n",
      "INFO:tensorflow:Starting evaluation at 2017-07-28-18:42:12\n",
      "INFO:tensorflow:Restoring parameters from /tmp/tmpweg9wjmn/model.ckpt-2000\n",
      "INFO:tensorflow:Evaluation [1/1]\n",
      "INFO:tensorflow:Finished evaluation at 2017-07-28-18:42:13\n",
      "INFO:tensorflow:Saving dict for global step 2000: accuracy = 0.9734, global_step = 2000, loss = 0.0911552\n",
      "WARNING:tensorflow:Skipping summary for global_step, must be a float or np.float32.\n",
      "\n",
      "Validation Accuracy: 0.973400\n",
      "\n"
     ]
    }
   ],
   "source": [
    "# Evaluate accuracy on validation set\n",
    "accuracy_score = classifier.evaluate(input_fn=get_validation_inputs, steps=1)[\"accuracy\"]\n",
    "validation_scores.append(accuracy_score)\n",
    "print(\"\\nValidation Accuracy: {0:f}\\n\".format(accuracy_score))"
   ]
  },
  {
   "cell_type": "code",
   "execution_count": 9,
   "metadata": {},
   "outputs": [
    {
     "name": "stdout",
     "output_type": "stream",
     "text": [
      "WARNING:tensorflow:From /home/mulmer/envs/tensorflow/lib/python3.5/site-packages/tensorflow/contrib/learn/python/learn/estimators/head.py:615: scalar_summary (from tensorflow.python.ops.logging_ops) is deprecated and will be removed after 2016-11-30.\n",
      "Instructions for updating:\n",
      "Please switch to tf.summary.scalar. Note that tf.summary.scalar uses the node name instead of the tag. This means that TensorFlow will automatically de-duplicate summary names based on the scope they are created in. Also, passing a tensor or list of tags to a scalar summary op is no longer supported.\n",
      "INFO:tensorflow:Starting evaluation at 2017-07-28-18:42:16\n",
      "INFO:tensorflow:Restoring parameters from /tmp/tmpweg9wjmn/model.ckpt-2000\n",
      "INFO:tensorflow:Evaluation [1/1]\n",
      "INFO:tensorflow:Finished evaluation at 2017-07-28-18:42:17\n",
      "INFO:tensorflow:Saving dict for global step 2000: accuracy = 0.973, global_step = 2000, loss = 0.0905371\n",
      "WARNING:tensorflow:Skipping summary for global_step, must be a float or np.float32.\n",
      "\n",
      "Test Accuracy: 0.973000\n",
      "\n"
     ]
    }
   ],
   "source": [
    "# Evaluate accuracy on testing set\n",
    "accuracy_score = classifier.evaluate(input_fn=get_test_inputs, steps=1)[\"accuracy\"]\n",
    "test_scores.append(accuracy_score)\n",
    "print(\"\\nTest Accuracy: {0:f}\\n\".format(accuracy_score))"
   ]
  },
  {
   "cell_type": "code",
   "execution_count": null,
   "metadata": {
    "collapsed": true
   },
   "outputs": [],
   "source": [
    "# print(classifiers)\n",
    "print(train_scores)\n",
    "print(validation_scores)\n",
    "print(test_scores)"
   ]
  },
  {
   "cell_type": "code",
   "execution_count": null,
   "metadata": {
    "collapsed": true
   },
   "outputs": [],
   "source": [
    "count = 0\n",
    "best_score = 0\n",
    "for score in validation_scores:\n",
    "    if score>best_score:\n",
    "        best_score=score\n",
    "        best_estimator = classifiers[count]\n",
    "    count += 1"
   ]
  },
  {
   "cell_type": "code",
   "execution_count": null,
   "metadata": {
    "collapsed": true
   },
   "outputs": [],
   "source": [
    "best_estimator"
   ]
  },
  {
   "cell_type": "code",
   "execution_count": null,
   "metadata": {
    "collapsed": true
   },
   "outputs": [],
   "source": [
    "validation_accuracy"
   ]
  }
 ],
 "metadata": {
  "kernelspec": {
   "display_name": "Python 3",
   "language": "python",
   "name": "python3"
  },
  "language_info": {
   "codemirror_mode": {
    "name": "ipython",
    "version": 3
   },
   "file_extension": ".py",
   "mimetype": "text/x-python",
   "name": "python",
   "nbconvert_exporter": "python",
   "pygments_lexer": "ipython3",
   "version": "3.5.3"
  }
 },
 "nbformat": 4,
 "nbformat_minor": 2
}
