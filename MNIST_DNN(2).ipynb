{
 "cells": [
  {
   "cell_type": "code",
   "execution_count": 1,
   "metadata": {},
   "outputs": [
    {
     "name": "stdout",
     "output_type": "stream",
     "text": [
      "Extracting MNIST_data/train-images-idx3-ubyte.gz\n",
      "Extracting MNIST_data/train-labels-idx1-ubyte.gz\n",
      "Extracting MNIST_data/t10k-images-idx3-ubyte.gz\n",
      "Extracting MNIST_data/t10k-labels-idx1-ubyte.gz\n",
      "Train Size: 55000\n",
      "Validation Size: 5000\n",
      "Test Size: 10000\n"
     ]
    }
   ],
   "source": [
    "%matplotlib inline\n",
    "import tensorflow as tf\n",
    "import numpy as np\n",
    "from tensorflow.examples.tutorials.mnist import input_data\n",
    "import time\n",
    "import matplotlib.pyplot as plt\n",
    "\n",
    "mnist = input_data.read_data_sets('MNIST_data/', one_hot=False)\n",
    "print('Train Size: {0}'.format(mnist.train.num_examples))\n",
    "print('Validation Size: {0}'.format(mnist.validation.num_examples))\n",
    "print('Test Size: {0}'.format(mnist.test.num_examples))"
   ]
  },
  {
   "cell_type": "code",
   "execution_count": 2,
   "metadata": {
    "collapsed": true
   },
   "outputs": [],
   "source": [
    "# Specify that all features have real-value data\n",
    "feature_columns = [tf.contrib.layers.real_valued_column(\"\", dimension=784)]\n",
    "\n",
    "def DNN(hidden_units, optimizer, activation_fn, dropout=0.0, model_dir=None):\n",
    "# Build len(hidden_units) layer DNN\n",
    "    classifier = tf.contrib.learn.DNNClassifier(feature_columns=feature_columns,\n",
    "                                                hidden_units=hidden_units,\n",
    "                                                n_classes=10,\n",
    "                                                optimizer=optimizer,\n",
    "                                                activation_fn=activation_fn,\n",
    "                                                dropout=dropout,\n",
    "                                                model_dir=model_dir)\n",
    "    \n",
    "    return classifier\n",
    "# Define test inputs\n",
    "def get_train_inputs():\n",
    "    #train_subset = 10000\n",
    "    x = tf.constant(mnist.train.images)\n",
    "    y = tf.constant(mnist.train.labels.astype(np.int64))\n",
    "\n",
    "    return x, y\n",
    "\n",
    "# Define the test inputs\n",
    "def get_validation_inputs():\n",
    "    x = tf.constant(mnist.validation.images)\n",
    "    y = tf.constant(mnist.validation.labels.astype(np.int64))\n",
    "\n",
    "    return x, y\n",
    "\n",
    "# Define the test inputs\n",
    "def get_test_inputs():\n",
    "    x = tf.constant(mnist.test.images)\n",
    "    y = tf.constant(mnist.test.labels.astype(np.int64))\n",
    "\n",
    "    return x, y"
   ]
  },
  {
   "cell_type": "code",
   "execution_count": 3,
   "metadata": {},
   "outputs": [
    {
     "name": "stdout",
     "output_type": "stream",
     "text": [
      "[7 3 4 ..., 5 6 8]\n"
     ]
    }
   ],
   "source": [
    "print(mnist.train.labels)"
   ]
  },
  {
   "cell_type": "code",
   "execution_count": 4,
   "metadata": {
    "collapsed": true
   },
   "outputs": [],
   "source": [
    "classifiers = []\n",
    "train_scores = []\n",
    "validation_scores = []\n",
    "test_scores = []"
   ]
  },
  {
   "cell_type": "code",
   "execution_count": 16,
   "metadata": {},
   "outputs": [
    {
     "name": "stdout",
     "output_type": "stream",
     "text": [
      "INFO:tensorflow:Using default config.\n",
      "INFO:tensorflow:Using config: {'_task_type': None, '_cluster_spec': <tensorflow.python.training.server_lib.ClusterSpec object at 0x7fcd9c029a90>, '_tf_random_seed': None, '_master': '', '_environment': 'local', '_save_summary_steps': 100, '_keep_checkpoint_max': 5, '_num_ps_replicas': 0, '_num_worker_replicas': 0, '_tf_config': gpu_options {\n",
      "  per_process_gpu_memory_fraction: 1.0\n",
      "}\n",
      ", '_task_id': 0, '_is_chief': True, '_save_checkpoints_steps': None, '_evaluation_master': '', '_model_dir': None, '_save_checkpoints_secs': 600, '_keep_checkpoint_every_n_hours': 10000}\n",
      "WARNING:tensorflow:Using temporary folder as model directory: /tmp/tmpfcd6nph5\n"
     ]
    }
   ],
   "source": [
    "classifier = DNN(hidden_units=[100, 50, 100], optimizer=None, activation_fn=tf.nn.crelu)\n",
    "classifiers.append(classifier)"
   ]
  },
  {
   "cell_type": "code",
   "execution_count": 17,
   "metadata": {},
   "outputs": [
    {
     "name": "stdout",
     "output_type": "stream",
     "text": [
      "WARNING:tensorflow:From /home/mulmer/envs/tensorflow/lib/python3.5/site-packages/tensorflow/contrib/learn/python/learn/estimators/head.py:615: scalar_summary (from tensorflow.python.ops.logging_ops) is deprecated and will be removed after 2016-11-30.\n",
      "Instructions for updating:\n",
      "Please switch to tf.summary.scalar. Note that tf.summary.scalar uses the node name instead of the tag. This means that TensorFlow will automatically de-duplicate summary names based on the scope they are created in. Also, passing a tensor or list of tags to a scalar summary op is no longer supported.\n",
      "INFO:tensorflow:Create CheckpointSaverHook.\n",
      "INFO:tensorflow:Saving checkpoints for 1 into /tmp/tmpfcd6nph5/model.ckpt.\n",
      "INFO:tensorflow:loss = 2.31935, step = 1\n",
      "INFO:tensorflow:global_step/sec: 0.977952\n",
      "INFO:tensorflow:loss = 0.3325, step = 101 (102.266 sec)\n",
      "INFO:tensorflow:global_step/sec: 0.986737\n",
      "INFO:tensorflow:loss = 0.237953, step = 201 (101.335 sec)\n",
      "INFO:tensorflow:global_step/sec: 1.00184\n",
      "INFO:tensorflow:loss = 0.18951, step = 301 (99.816 sec)\n",
      "INFO:tensorflow:global_step/sec: 1.01379\n",
      "INFO:tensorflow:loss = 0.158597, step = 401 (98.649 sec)\n",
      "INFO:tensorflow:global_step/sec: 1.01129\n",
      "INFO:tensorflow:loss = 0.1361, step = 501 (98.888 sec)\n",
      "INFO:tensorflow:Saving checkpoints for 599 into /tmp/tmpfcd6nph5/model.ckpt.\n",
      "INFO:tensorflow:global_step/sec: 0.983241\n",
      "INFO:tensorflow:loss = 0.118748, step = 601 (101.690 sec)\n",
      "INFO:tensorflow:global_step/sec: 0.99159\n",
      "INFO:tensorflow:loss = 0.105034, step = 701 (100.875 sec)\n",
      "INFO:tensorflow:global_step/sec: 1.0099\n",
      "INFO:tensorflow:loss = 0.093892, step = 801 (99.004 sec)\n",
      "INFO:tensorflow:global_step/sec: 0.990213\n",
      "INFO:tensorflow:loss = 0.0846039, step = 901 (100.979 sec)\n",
      "INFO:tensorflow:global_step/sec: 0.999125\n",
      "INFO:tensorflow:loss = 0.0767298, step = 1001 (100.097 sec)\n",
      "INFO:tensorflow:global_step/sec: 1.01933\n",
      "INFO:tensorflow:loss = 0.0699178, step = 1101 (98.095 sec)\n",
      "INFO:tensorflow:Saving checkpoints for 1200 into /tmp/tmpfcd6nph5/model.ckpt.\n",
      "INFO:tensorflow:global_step/sec: 0.99848\n",
      "INFO:tensorflow:loss = 0.0639393, step = 1201 (100.153 sec)\n",
      "INFO:tensorflow:global_step/sec: 0.984207\n",
      "INFO:tensorflow:loss = 0.0586238, step = 1301 (101.603 sec)\n",
      "INFO:tensorflow:global_step/sec: 1.00791\n",
      "INFO:tensorflow:loss = 0.0538818, step = 1401 (99.216 sec)\n",
      "INFO:tensorflow:global_step/sec: 0.996174\n",
      "INFO:tensorflow:loss = 0.0496305, step = 1501 (100.405 sec)\n",
      "INFO:tensorflow:global_step/sec: 0.981664\n",
      "INFO:tensorflow:loss = 0.0457597, step = 1601 (101.845 sec)\n",
      "INFO:tensorflow:global_step/sec: 1.00502\n",
      "INFO:tensorflow:loss = 0.042235, step = 1701 (99.502 sec)\n",
      "INFO:tensorflow:Saving checkpoints for 1797 into /tmp/tmpfcd6nph5/model.ckpt.\n",
      "INFO:tensorflow:global_step/sec: 0.998609\n",
      "INFO:tensorflow:loss = 0.0390118, step = 1801 (100.138 sec)\n",
      "INFO:tensorflow:global_step/sec: 0.991984\n",
      "INFO:tensorflow:loss = 0.036068, step = 1901 (100.809 sec)\n",
      "INFO:tensorflow:Saving checkpoints for 2000 into /tmp/tmpfcd6nph5/model.ckpt.\n",
      "INFO:tensorflow:Loss for final step: 0.0333944.\n"
     ]
    },
    {
     "data": {
      "text/plain": [
       "DNNClassifier(params={'gradient_clip_norm': None, 'hidden_units': [100, 50, 100], 'embedding_lr_multipliers': None, 'input_layer_min_slice_size': None, 'feature_columns': (_RealValuedColumn(column_name='', dimension=784, default_value=None, dtype=tf.float32, normalizer=None),), 'head': <tensorflow.contrib.learn.python.learn.estimators.head._MultiClassHead object at 0x7fcd9c006048>, 'activation_fn': <function crelu at 0x7fcdc2f47f28>, 'dropout': 0.0, 'optimizer': None})"
      ]
     },
     "execution_count": 17,
     "metadata": {},
     "output_type": "execute_result"
    }
   ],
   "source": [
    "classifier.fit(input_fn=get_train_inputs, steps=2000)"
   ]
  },
  {
   "cell_type": "code",
   "execution_count": 18,
   "metadata": {},
   "outputs": [
    {
     "name": "stdout",
     "output_type": "stream",
     "text": [
      "WARNING:tensorflow:From /home/mulmer/envs/tensorflow/lib/python3.5/site-packages/tensorflow/contrib/learn/python/learn/estimators/head.py:615: scalar_summary (from tensorflow.python.ops.logging_ops) is deprecated and will be removed after 2016-11-30.\n",
      "Instructions for updating:\n",
      "Please switch to tf.summary.scalar. Note that tf.summary.scalar uses the node name instead of the tag. This means that TensorFlow will automatically de-duplicate summary names based on the scope they are created in. Also, passing a tensor or list of tags to a scalar summary op is no longer supported.\n",
      "INFO:tensorflow:Starting evaluation at 2017-07-28-19:45:16\n",
      "INFO:tensorflow:Restoring parameters from /tmp/tmpfcd6nph5/model.ckpt-2000\n",
      "INFO:tensorflow:Evaluation [1/1]\n",
      "INFO:tensorflow:Finished evaluation at 2017-07-28-19:45:17\n",
      "INFO:tensorflow:Saving dict for global step 2000: accuracy = 0.992164, global_step = 2000, loss = 0.0333683\n",
      "WARNING:tensorflow:Skipping summary for global_step, must be a float or np.float32.\n",
      "\n",
      "Train Accuracy: 0.992164\n",
      "\n"
     ]
    }
   ],
   "source": [
    "# Evaluate accuracy on train set\n",
    "accuracy_score = classifier.evaluate(input_fn=get_train_inputs, steps=1)[\"accuracy\"]\n",
    "train_scores.append(accuracy_score)\n",
    "print(\"\\nTrain Accuracy: {0:f}\\n\".format(accuracy_score))"
   ]
  },
  {
   "cell_type": "code",
   "execution_count": 19,
   "metadata": {},
   "outputs": [
    {
     "name": "stdout",
     "output_type": "stream",
     "text": [
      "WARNING:tensorflow:From /home/mulmer/envs/tensorflow/lib/python3.5/site-packages/tensorflow/contrib/learn/python/learn/estimators/head.py:615: scalar_summary (from tensorflow.python.ops.logging_ops) is deprecated and will be removed after 2016-11-30.\n",
      "Instructions for updating:\n",
      "Please switch to tf.summary.scalar. Note that tf.summary.scalar uses the node name instead of the tag. This means that TensorFlow will automatically de-duplicate summary names based on the scope they are created in. Also, passing a tensor or list of tags to a scalar summary op is no longer supported.\n",
      "INFO:tensorflow:Starting evaluation at 2017-07-28-19:45:24\n",
      "INFO:tensorflow:Restoring parameters from /tmp/tmpfcd6nph5/model.ckpt-2000\n",
      "INFO:tensorflow:Evaluation [1/1]\n",
      "INFO:tensorflow:Finished evaluation at 2017-07-28-19:45:25\n",
      "INFO:tensorflow:Saving dict for global step 2000: accuracy = 0.9776, global_step = 2000, loss = 0.0786819\n",
      "WARNING:tensorflow:Skipping summary for global_step, must be a float or np.float32.\n",
      "\n",
      "Validation Accuracy: 0.977600\n",
      "\n"
     ]
    }
   ],
   "source": [
    "# Evaluate accuracy on validation set\n",
    "accuracy_score = classifier.evaluate(input_fn=get_validation_inputs, steps=1)[\"accuracy\"]\n",
    "validation_scores.append(accuracy_score)\n",
    "print(\"\\nValidation Accuracy: {0:f}\\n\".format(accuracy_score))"
   ]
  },
  {
   "cell_type": "code",
   "execution_count": 20,
   "metadata": {},
   "outputs": [
    {
     "name": "stdout",
     "output_type": "stream",
     "text": [
      "WARNING:tensorflow:From /home/mulmer/envs/tensorflow/lib/python3.5/site-packages/tensorflow/contrib/learn/python/learn/estimators/head.py:615: scalar_summary (from tensorflow.python.ops.logging_ops) is deprecated and will be removed after 2016-11-30.\n",
      "Instructions for updating:\n",
      "Please switch to tf.summary.scalar. Note that tf.summary.scalar uses the node name instead of the tag. This means that TensorFlow will automatically de-duplicate summary names based on the scope they are created in. Also, passing a tensor or list of tags to a scalar summary op is no longer supported.\n",
      "INFO:tensorflow:Starting evaluation at 2017-07-28-19:45:28\n",
      "INFO:tensorflow:Restoring parameters from /tmp/tmpfcd6nph5/model.ckpt-2000\n",
      "INFO:tensorflow:Evaluation [1/1]\n",
      "INFO:tensorflow:Finished evaluation at 2017-07-28-19:45:29\n",
      "INFO:tensorflow:Saving dict for global step 2000: accuracy = 0.975, global_step = 2000, loss = 0.0835341\n",
      "WARNING:tensorflow:Skipping summary for global_step, must be a float or np.float32.\n",
      "\n",
      "Test Accuracy: 0.975000\n",
      "\n"
     ]
    }
   ],
   "source": [
    "# Evaluate accuracy on testing set\n",
    "accuracy_score = classifier.evaluate(input_fn=get_test_inputs, steps=1)[\"accuracy\"]\n",
    "test_scores.append(accuracy_score)\n",
    "print(\"\\nTest Accuracy: {0:f}\\n\".format(accuracy_score))"
   ]
  },
  {
   "cell_type": "code",
   "execution_count": 21,
   "metadata": {},
   "outputs": [
    {
     "name": "stdout",
     "output_type": "stream",
     "text": [
      "[0.98421818, 0.99205452, 0.99216366]\n",
      "[0.9734, 0.977, 0.97759998]\n",
      "[0.97299999, 0.97490001, 0.97500002]\n"
     ]
    }
   ],
   "source": [
    "# print(classifiers)\n",
    "print(train_scores)\n",
    "print(validation_scores)\n",
    "print(test_scores)"
   ]
  }
 ],
 "metadata": {
  "kernelspec": {
   "display_name": "Python 3",
   "language": "python",
   "name": "python3"
  },
  "language_info": {
   "codemirror_mode": {
    "name": "ipython",
    "version": 3
   },
   "file_extension": ".py",
   "mimetype": "text/x-python",
   "name": "python",
   "nbconvert_exporter": "python",
   "pygments_lexer": "ipython3",
   "version": "3.5.3"
  }
 },
 "nbformat": 4,
 "nbformat_minor": 2
}
